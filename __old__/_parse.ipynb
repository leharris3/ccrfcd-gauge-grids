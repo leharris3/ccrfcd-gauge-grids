{
 "cells": [
  {
   "cell_type": "code",
   "execution_count": 4,
   "id": "47176442",
   "metadata": {},
   "outputs": [],
   "source": [
    "import pandas as pd\n",
    "\n",
    "fp = \"/playpen/mufan/levi/tianlong-chen-lab/nws-lv-precip-forecasting/pg_source.txt\"\n",
    "with open(fp, \"r\") as f:\n",
    "    text = f.read()"
   ]
  },
  {
   "cell_type": "code",
   "execution_count": 5,
   "id": "ab0c3ef2",
   "metadata": {},
   "outputs": [],
   "source": [
    "numbers = []\n",
    "names   = []\n",
    "\n",
    "for item in text.split('<option value=\"')[1: -1]:\n",
    "    try:\n",
    "        gauge_number = item.strip().split(\" - \")[0]\n",
    "        gauge_name   = item.strip().split(\" - \")[1].split('\"')[0]\n",
    "        numbers.append(gauge_number)\n",
    "        names.append(gauge_name)\n",
    "    except:\n",
    "        pass"
   ]
  },
  {
   "cell_type": "code",
   "execution_count": 6,
   "id": "d0d92b48",
   "metadata": {},
   "outputs": [],
   "source": [
    "import numpy as np\n",
    "numbers = np.array(numbers)\n",
    "names = np.array(names)"
   ]
  },
  {
   "cell_type": "code",
   "execution_count": 8,
   "id": "1d4ce43a",
   "metadata": {},
   "outputs": [],
   "source": [
    "df = pd.DataFrame({\n",
    "    \"gauge_number\": numbers,\n",
    "    \"gauge_name\": names,\n",
    "})\n",
    "df.to_csv(\"clark_county_gauge_metadata.csv\")"
   ]
  },
  {
   "cell_type": "code",
   "execution_count": null,
   "id": "14bf86e2",
   "metadata": {},
   "outputs": [],
   "source": []
  }
 ],
 "metadata": {
  "kernelspec": {
   "display_name": "torp",
   "language": "python",
   "name": "python3"
  },
  "language_info": {
   "codemirror_mode": {
    "name": "ipython",
    "version": 3
   },
   "file_extension": ".py",
   "mimetype": "text/x-python",
   "name": "python",
   "nbconvert_exporter": "python",
   "pygments_lexer": "ipython3",
   "version": "3.10.17"
  }
 },
 "nbformat": 4,
 "nbformat_minor": 5
}
