{
 "cells": [
  {
   "cell_type": "code",
   "execution_count": 1,
   "id": "4e98d053",
   "metadata": {},
   "outputs": [],
   "source": [
    "import pandas as pd\n",
    "\n",
    "\n",
    "loc_meta_df = pd.read_csv(\"data/clark-county-rain-gauges/CCRFCD Station Locations 2025.csv\")\n",
    "prev_meta_df = pd.read_csv(\"data/clark-county-rain-gauges/clark_county_gauge_metadata.csv\")"
   ]
  },
  {
   "cell_type": "code",
   "execution_count": 2,
   "id": "2573afbd",
   "metadata": {},
   "outputs": [
    {
     "data": {
      "text/html": [
       "<div>\n",
       "<style scoped>\n",
       "    .dataframe tbody tr th:only-of-type {\n",
       "        vertical-align: middle;\n",
       "    }\n",
       "\n",
       "    .dataframe tbody tr th {\n",
       "        vertical-align: top;\n",
       "    }\n",
       "\n",
       "    .dataframe thead th {\n",
       "        text-align: right;\n",
       "    }\n",
       "</style>\n",
       "<table border=\"1\" class=\"dataframe\">\n",
       "  <thead>\n",
       "    <tr style=\"text-align: right;\">\n",
       "      <th></th>\n",
       "      <th>Station ID</th>\n",
       "      <th>Name</th>\n",
       "      <th>Type</th>\n",
       "      <th>OOS</th>\n",
       "      <th>Latitude</th>\n",
       "      <th>Longitude</th>\n",
       "    </tr>\n",
       "  </thead>\n",
       "  <tbody>\n",
       "    <tr>\n",
       "      <th>0</th>\n",
       "      <td>2</td>\n",
       "      <td>Willow Beach 2 (NPS)</td>\n",
       "      <td>NPS System</td>\n",
       "      <td>False</td>\n",
       "      <td>35.87789</td>\n",
       "      <td>-114.58875</td>\n",
       "    </tr>\n",
       "    <tr>\n",
       "      <th>1</th>\n",
       "      <td>4</td>\n",
       "      <td>Malpais Flattop Mesa (NPS)</td>\n",
       "      <td>NPS System</td>\n",
       "      <td>False</td>\n",
       "      <td>35.82014</td>\n",
       "      <td>-114.66325</td>\n",
       "    </tr>\n",
       "    <tr>\n",
       "      <th>2</th>\n",
       "      <td>5</td>\n",
       "      <td>Householder Pass (NPS)</td>\n",
       "      <td>NPS System</td>\n",
       "      <td>False</td>\n",
       "      <td>35.82578</td>\n",
       "      <td>-114.59625</td>\n",
       "    </tr>\n",
       "    <tr>\n",
       "      <th>3</th>\n",
       "      <td>7</td>\n",
       "      <td>Eldorado (NPS) - New Repeater</td>\n",
       "      <td>NPS System</td>\n",
       "      <td>False</td>\n",
       "      <td>35.74642</td>\n",
       "      <td>-114.57600</td>\n",
       "    </tr>\n",
       "    <tr>\n",
       "      <th>4</th>\n",
       "      <td>8</td>\n",
       "      <td>Willow Beach 8 (NPS)</td>\n",
       "      <td>NPS System</td>\n",
       "      <td>False</td>\n",
       "      <td>35.96100</td>\n",
       "      <td>-114.62764</td>\n",
       "    </tr>\n",
       "  </tbody>\n",
       "</table>\n",
       "</div>"
      ],
      "text/plain": [
       "   Station ID                           Name        Type    OOS  Latitude  \\\n",
       "0           2           Willow Beach 2 (NPS)  NPS System  False  35.87789   \n",
       "1           4     Malpais Flattop Mesa (NPS)  NPS System  False  35.82014   \n",
       "2           5         Householder Pass (NPS)  NPS System  False  35.82578   \n",
       "3           7  Eldorado (NPS) - New Repeater  NPS System  False  35.74642   \n",
       "4           8           Willow Beach 8 (NPS)  NPS System  False  35.96100   \n",
       "\n",
       "   Longitude  \n",
       "0 -114.58875  \n",
       "1 -114.66325  \n",
       "2 -114.59625  \n",
       "3 -114.57600  \n",
       "4 -114.62764  "
      ]
     },
     "execution_count": 2,
     "metadata": {},
     "output_type": "execute_result"
    }
   ],
   "source": [
    "loc_meta_df.head()"
   ]
  },
  {
   "cell_type": "code",
   "execution_count": 3,
   "id": "3274a20f",
   "metadata": {},
   "outputs": [
    {
     "data": {
      "text/html": [
       "<div>\n",
       "<style scoped>\n",
       "    .dataframe tbody tr th:only-of-type {\n",
       "        vertical-align: middle;\n",
       "    }\n",
       "\n",
       "    .dataframe tbody tr th {\n",
       "        vertical-align: top;\n",
       "    }\n",
       "\n",
       "    .dataframe thead th {\n",
       "        text-align: right;\n",
       "    }\n",
       "</style>\n",
       "<table border=\"1\" class=\"dataframe\">\n",
       "  <thead>\n",
       "    <tr style=\"text-align: right;\">\n",
       "      <th></th>\n",
       "      <th>Station ID</th>\n",
       "      <th>old_name</th>\n",
       "    </tr>\n",
       "  </thead>\n",
       "  <tbody>\n",
       "    <tr>\n",
       "      <th>0</th>\n",
       "      <td>1</td>\n",
       "      <td>Willow Beach 1 (NPS) RAIN (old) (Rain)</td>\n",
       "    </tr>\n",
       "    <tr>\n",
       "      <th>1</th>\n",
       "      <td>2</td>\n",
       "      <td>Willow Beach 2 (NPS) RAIN (Rain)</td>\n",
       "    </tr>\n",
       "    <tr>\n",
       "      <th>2</th>\n",
       "      <td>3</td>\n",
       "      <td>Willow Beach 3 (NPS) RAIN (Rain)</td>\n",
       "    </tr>\n",
       "    <tr>\n",
       "      <th>3</th>\n",
       "      <td>4</td>\n",
       "      <td>Malpais Flattop Mesa (NPS) RAIN (Rain)</td>\n",
       "    </tr>\n",
       "    <tr>\n",
       "      <th>4</th>\n",
       "      <td>5</td>\n",
       "      <td>Householder Pass (NPS) RAIN (Rain)</td>\n",
       "    </tr>\n",
       "  </tbody>\n",
       "</table>\n",
       "</div>"
      ],
      "text/plain": [
       "   Station ID                                old_name\n",
       "0           1  Willow Beach 1 (NPS) RAIN (old) (Rain)\n",
       "1           2        Willow Beach 2 (NPS) RAIN (Rain)\n",
       "2           3        Willow Beach 3 (NPS) RAIN (Rain)\n",
       "3           4  Malpais Flattop Mesa (NPS) RAIN (Rain)\n",
       "4           5      Householder Pass (NPS) RAIN (Rain)"
      ]
     },
     "execution_count": 3,
     "metadata": {},
     "output_type": "execute_result"
    }
   ],
   "source": [
    "prev_meta_df = prev_meta_df.drop(\"Unnamed: 0\", axis=1)\n",
    "prev_meta_df = prev_meta_df.rename(\n",
    "    columns={\n",
    "        \"gauge_number\": \"Station ID\",\n",
    "        \"gauge_name\"  : \"old_name\"\n",
    "    }\n",
    ")\n",
    "prev_meta_df.head()"
   ]
  },
  {
   "cell_type": "code",
   "execution_count": 4,
   "id": "0f8b7ec4",
   "metadata": {},
   "outputs": [],
   "source": [
    "station_ids_map = {}\n",
    "for row in loc_meta_df.iterrows():\n",
    "    _row = row[1]\n",
    "    station_id = _row[\"Station ID\"]\n",
    "    station_ids_map[station_id] =  _row"
   ]
  },
  {
   "cell_type": "code",
   "execution_count": 5,
   "id": "0e66cb5f",
   "metadata": {},
   "outputs": [],
   "source": [
    "old_names   = []\n",
    "station_ids = []\n",
    "names       = []\n",
    "types       = []\n",
    "ooss        = []\n",
    "lats        = []\n",
    "lons        = []\n",
    "\n",
    "\n",
    "for row in prev_meta_df.iterrows():\n",
    "\n",
    "    old_name    = row[1]['old_name']\n",
    "    _station_id = row[1]['Station ID']\n",
    "\n",
    "    if _station_id not in station_ids_map: \n",
    "        station_id = None\n",
    "        name       = None\n",
    "        type       = None\n",
    "        oos        = None\n",
    "        lat        = None\n",
    "        lon        = None\n",
    "    else:\n",
    "        _row = station_ids_map[_station_id]\n",
    "        station_id = _row[\"Station ID\"]\n",
    "        name       = _row[\"Name\"]\n",
    "        type       = _row[\"Type\"]\n",
    "        oos        = _row[\"OOS\"]\n",
    "        lat        = _row[\"Latitude\"]\n",
    "        lon        = _row[\"Longitude\"]\n",
    "    \n",
    "    old_names.append(old_name)\n",
    "    station_ids.append(station_id)\n",
    "    names.append(name)\n",
    "    types.append(type)\n",
    "    ooss.append(oos)\n",
    "    lats.append(lat)\n",
    "    lons.append(lon)\n"
   ]
  },
  {
   "cell_type": "code",
   "execution_count": 6,
   "id": "a953d761",
   "metadata": {},
   "outputs": [],
   "source": [
    "from pandas import DataFrame\n",
    "\n",
    "\n",
    "metadf = DataFrame({\n",
    "    \"station_id\": station_ids,\n",
    "    \"name\": names,\n",
    "    \"old_name\": old_names,\n",
    "    \"type\": types,\n",
    "    \"oos\": ooss,\n",
    "    \"lat\": lats,\n",
    "    \"lon\": lons,\n",
    "})\n",
    "\n",
    "metadf.to_csv(\"ccrfcd_rain_gauge_metadata.csv\")"
   ]
  },
  {
   "cell_type": "markdown",
   "id": "bed8f993",
   "metadata": {},
   "source": [
    "# **merge all precip data**\n",
    "***"
   ]
  },
  {
   "cell_type": "code",
   "execution_count": 11,
   "id": "96387c1c",
   "metadata": {},
   "outputs": [],
   "source": [
    "import pandas as pd\n",
    "from pathlib import Path\n",
    "\n",
    "\n",
    "metadata_fp     = \"data/clark-county-rain-gauges/ccrfcd_rain_gauge_metadata.csv\"\n",
    "rain_gauge_dir  = \"data/clark-county-rain-gauges/2021-\"\n",
    "rain_gauge_csvs = [f for f in Path(rain_gauge_dir).glob(\"*.csv\")]\n",
    "metadata        = pd.read_csv(metadata_fp)"
   ]
  },
  {
   "cell_type": "code",
   "execution_count": 12,
   "id": "3e913a01",
   "metadata": {},
   "outputs": [],
   "source": [
    "# remove invalid gauges\n",
    "metadata         = metadata[metadata[\"station_id\"] > 0]\n",
    "unique_gauge_ids = sorted(list(set(metadata['station_id'].astype(int))))"
   ]
  },
  {
   "cell_type": "code",
   "execution_count": 13,
   "id": "9d739cb9",
   "metadata": {},
   "outputs": [
    {
     "name": "stdout",
     "output_type": "stream",
     "text": [
      "data/clark-county-rain-gauges/2021-/gagedata_2584.csv\n"
     ]
    },
    {
     "data": {
      "text/plain": [
       "(231, 11)"
      ]
     },
     "execution_count": 13,
     "metadata": {},
     "output_type": "execute_result"
    }
   ],
   "source": [
    "valid_unique_gauge_ids = set()\n",
    "\n",
    "for id in unique_gauge_ids:\n",
    "    gaugedata_fp = Path(rain_gauge_dir) / Path(f\"gagedata_{id}.csv\")\n",
    "    if gaugedata_fp.is_file():\n",
    "        valid_unique_gauge_ids.add(id)\n",
    "    else:\n",
    "        print(gaugedata_fp)\n",
    "        break\n",
    "\n",
    "unique_gauge_ids.__len__(), valid_unique_gauge_ids.__len__()"
   ]
  },
  {
   "cell_type": "code",
   "execution_count": 14,
   "id": "c7549454",
   "metadata": {},
   "outputs": [
    {
     "name": "stdout",
     "output_type": "stream",
     "text": [
      "Regional Flood Control District - Gage Data\n"
     ]
    }
   ],
   "source": [
    "\"\"\"\n",
    "Helper methods to scrape rain-gauge data from:\n",
    "https://gustfront.ccrfcd.org/gagedatalist/\n",
    "\"\"\"\n",
    "\n",
    "import time\n",
    "\n",
    "from pathlib import Path\n",
    "from datetime import datetime\n",
    "from tqdm import tqdm\n",
    "\n",
    "from selenium import webdriver\n",
    "from selenium.webdriver.common.keys import Keys\n",
    "from selenium.webdriver.common.by import By\n",
    "from selenium.webdriver.chrome.options import Options\n",
    "from selenium.webdriver.support.ui import Select, WebDriverWait\n",
    "\n",
    "\n",
    "_URL = \"https://gustfront.ccrfcd.org/gagedatalist/\"\n",
    "\n",
    "\n",
    "def get_chrome_driver() -> webdriver.Chrome:\n",
    "\n",
    "    options = Options()\n",
    "    options.add_argument(\"--no-sandbox\")\n",
    "    options.add_argument(\"--disable-dev-shm-usage\")\n",
    "    options.add_argument(\"--headless\")\n",
    "    curr_dir = \"/playpen/mufan/levi/tianlong-chen-lab/nws-lv-precip-forecasting/data/clark-county-rain-gauges/_test\"\n",
    "    prefs = {\n",
    "        \"download.default_directory\": curr_dir,\n",
    "        \"download.prompt_for_download\": False,\n",
    "        \"download.directory_upgrade\": True,\n",
    "        \"safebrowsing.enabled\": True,\n",
    "    }\n",
    "    options.add_experimental_option(\"prefs\", prefs)\n",
    "    driver = webdriver.Chrome(options=options)\n",
    "    driver.execute_cdp_cmd(\n",
    "        \"Page.setDownloadBehavior\",\n",
    "        {\"behavior\": \"allow\", \"downloadPath\": curr_dir},\n",
    "    )\n",
    "    return driver\n",
    "\n",
    "\n",
    "driver = get_chrome_driver()\n",
    "driver.get(_URL)\n",
    "print(driver.title)\n",
    "\n",
    "gauge_element     = driver.find_element(By.ID, \"uiGage\")\n",
    "gauge_selector    = Select(gauge_element)\n",
    "gauge_selector.select_by_index(0)\n",
    "\n",
    "gauges            = gauge_element.find_elements(By.TAG_NAME, \"option\")\n",
    "all_gauge_names   = [g.accessible_name for g in gauges]\n",
    "total_gauges      = len(all_gauge_names)\n",
    "gauge_id_name_map = {}\n",
    "\n",
    "for name in all_gauge_names:\n",
    "    gauge_id = int(name.split(\" - \")[0])\n",
    "    gauge_id_name_map[gauge_id] = name\n",
    "\n",
    "download_element = driver.find_element(By.ID, \"uiDownload\")"
   ]
  },
  {
   "cell_type": "code",
   "execution_count": 15,
   "id": "dcc2c1c3",
   "metadata": {},
   "outputs": [
    {
     "name": "stderr",
     "output_type": "stream",
     "text": [
      "  0%|          | 0/231 [00:00<?, ?it/s]"
     ]
    },
    {
     "name": "stderr",
     "output_type": "stream",
     "text": [
      "  5%|▌         | 12/231 [00:59<45:22, 12.43s/it]"
     ]
    },
    {
     "name": "stdout",
     "output_type": "stream",
     "text": [
      "Message: no such element: Unable to locate element: {\"method\":\"css selector\",\"selector\":\"[id=\"uiGage\"]\"}\n",
      "  (Session info: chrome=137.0.7151.119); For documentation on this error, please visit: https://www.selenium.dev/documentation/webdriver/troubleshooting/errors#no-such-element-exception\n",
      "Stacktrace:\n",
      "#0 0x5dfca3ff645a <unknown>\n",
      "#1 0x5dfca3a9b760 <unknown>\n",
      "#2 0x5dfca3aed127 <unknown>\n",
      "#3 0x5dfca3aed321 <unknown>\n",
      "#4 0x5dfca3b3be94 <unknown>\n",
      "#5 0x5dfca3b12e7d <unknown>\n",
      "#6 0x5dfca3b3930b <unknown>\n",
      "#7 0x5dfca3b12c23 <unknown>\n",
      "#8 0x5dfca3adf4a5 <unknown>\n",
      "#9 0x5dfca3ae0111 <unknown>\n",
      "#10 0x5dfca3fbaf1b <unknown>\n",
      "#11 0x5dfca3fbee19 <unknown>\n",
      "#12 0x5dfca3fa1ac9 <unknown>\n",
      "#13 0x5dfca3fbf9c8 <unknown>\n",
      "#14 0x5dfca3f8634f <unknown>\n",
      "#15 0x5dfca3fe3a28 <unknown>\n",
      "#16 0x5dfca3fe3c06 <unknown>\n",
      "#17 0x5dfca3ff5336 <unknown>\n",
      "#18 0x702ab5e9caa4 <unknown>\n",
      "#19 0x702ab5f29c3c <unknown>\n",
      "\n",
      "failed to download 2594 - Town Wash DB RAIN (Rain)\n"
     ]
    },
    {
     "name": "stderr",
     "output_type": "stream",
     "text": [
      "  6%|▋         | 15/231 [01:43<43:18, 12.03s/it]  "
     ]
    },
    {
     "name": "stdout",
     "output_type": "stream",
     "text": [
      "Message: no such element: Unable to locate element: {\"method\":\"css selector\",\"selector\":\"[id=\"uiGage\"]\"}\n",
      "  (Session info: chrome=137.0.7151.119); For documentation on this error, please visit: https://www.selenium.dev/documentation/webdriver/troubleshooting/errors#no-such-element-exception\n",
      "Stacktrace:\n",
      "#0 0x5eed49fd145a <unknown>\n",
      "#1 0x5eed49a76760 <unknown>\n",
      "#2 0x5eed49ac8127 <unknown>\n",
      "#3 0x5eed49ac8321 <unknown>\n",
      "#4 0x5eed49b16e94 <unknown>\n",
      "#5 0x5eed49aede7d <unknown>\n",
      "#6 0x5eed49b1430b <unknown>\n",
      "#7 0x5eed49aedc23 <unknown>\n",
      "#8 0x5eed49aba4a5 <unknown>\n",
      "#9 0x5eed49abb111 <unknown>\n",
      "#10 0x5eed49f95f1b <unknown>\n",
      "#11 0x5eed49f99e19 <unknown>\n",
      "#12 0x5eed49f7cac9 <unknown>\n",
      "#13 0x5eed49f9a9c8 <unknown>\n",
      "#14 0x5eed49f6134f <unknown>\n",
      "#15 0x5eed49fbea28 <unknown>\n",
      "#16 0x5eed49fbec06 <unknown>\n",
      "#17 0x5eed49fd0336 <unknown>\n",
      "#18 0x75a47129caa4 <unknown>\n",
      "#19 0x75a471329c3c <unknown>\n",
      "\n",
      "failed to download 2674 - Pulsipher Wash DB RAIN (Rain)\n"
     ]
    },
    {
     "name": "stderr",
     "output_type": "stream",
     "text": [
      "  8%|▊         | 19/231 [03:19<1:07:55, 19.23s/it]"
     ]
    },
    {
     "name": "stdout",
     "output_type": "stream",
     "text": [
      "Message: no such element: Unable to locate element: {\"method\":\"css selector\",\"selector\":\"[id=\"uiGage\"]\"}\n",
      "  (Session info: chrome=137.0.7151.119); For documentation on this error, please visit: https://www.selenium.dev/documentation/webdriver/troubleshooting/errors#no-such-element-exception\n",
      "Stacktrace:\n",
      "#0 0x5c402e9a445a <unknown>\n",
      "#1 0x5c402e449760 <unknown>\n",
      "#2 0x5c402e49b127 <unknown>\n",
      "#3 0x5c402e49b321 <unknown>\n",
      "#4 0x5c402e4e9e94 <unknown>\n",
      "#5 0x5c402e4c0e7d <unknown>\n",
      "#6 0x5c402e4e730b <unknown>\n",
      "#7 0x5c402e4c0c23 <unknown>\n",
      "#8 0x5c402e48d4a5 <unknown>\n",
      "#9 0x5c402e48e111 <unknown>\n",
      "#10 0x5c402e968f1b <unknown>\n",
      "#11 0x5c402e96ce19 <unknown>\n",
      "#12 0x5c402e94fac9 <unknown>\n",
      "#13 0x5c402e96d9c8 <unknown>\n",
      "#14 0x5c402e93434f <unknown>\n",
      "#15 0x5c402e991a28 <unknown>\n",
      "#16 0x5c402e991c06 <unknown>\n",
      "#17 0x5c402e9a3336 <unknown>\n",
      "#18 0x7e9c2309caa4 <unknown>\n",
      "#19 0x7e9c23129c3c <unknown>\n",
      "\n",
      "failed to download 2784 - Windmill Wash DB RAIN (Rain)\n"
     ]
    },
    {
     "name": "stderr",
     "output_type": "stream",
     "text": [
      "  9%|▊         | 20/231 [03:43<1:12:23, 20.59s/it]"
     ]
    },
    {
     "name": "stdout",
     "output_type": "stream",
     "text": [
      "Message: no such element: Unable to locate element: {\"method\":\"css selector\",\"selector\":\"[id=\"uiGage\"]\"}\n",
      "  (Session info: chrome=137.0.7151.119); For documentation on this error, please visit: https://www.selenium.dev/documentation/webdriver/troubleshooting/errors#no-such-element-exception\n",
      "Stacktrace:\n",
      "#0 0x5c30223e145a <unknown>\n",
      "#1 0x5c3021e86760 <unknown>\n",
      "#2 0x5c3021ed8127 <unknown>\n",
      "#3 0x5c3021ed8321 <unknown>\n",
      "#4 0x5c3021f26e94 <unknown>\n",
      "#5 0x5c3021efde7d <unknown>\n",
      "#6 0x5c3021f2430b <unknown>\n",
      "#7 0x5c3021efdc23 <unknown>\n",
      "#8 0x5c3021eca4a5 <unknown>\n",
      "#9 0x5c3021ecb111 <unknown>\n",
      "#10 0x5c30223a5f1b <unknown>\n",
      "#11 0x5c30223a9e19 <unknown>\n",
      "#12 0x5c302238cac9 <unknown>\n",
      "#13 0x5c30223aa9c8 <unknown>\n",
      "#14 0x5c302237134f <unknown>\n",
      "#15 0x5c30223cea28 <unknown>\n",
      "#16 0x5c30223cec06 <unknown>\n",
      "#17 0x5c30223e0336 <unknown>\n",
      "#18 0x7b7765e9caa4 <unknown>\n",
      "#19 0x7b7765f29c3c <unknown>\n",
      "\n",
      "failed to download 3034 - Halfway Wash RAIN (Rain)\n"
     ]
    },
    {
     "name": "stderr",
     "output_type": "stream",
     "text": [
      " 10%|▉         | 22/231 [04:24<1:11:45, 20.60s/it]"
     ]
    },
    {
     "name": "stdout",
     "output_type": "stream",
     "text": [
      "Message: no such element: Unable to locate element: {\"method\":\"css selector\",\"selector\":\"[id=\"uiGage\"]\"}\n",
      "  (Session info: chrome=137.0.7151.119); For documentation on this error, please visit: https://www.selenium.dev/documentation/webdriver/troubleshooting/errors#no-such-element-exception\n",
      "Stacktrace:\n",
      "#0 0x5dcbab94445a <unknown>\n",
      "#1 0x5dcbab3e9760 <unknown>\n",
      "#2 0x5dcbab43b127 <unknown>\n",
      "#3 0x5dcbab43b321 <unknown>\n",
      "#4 0x5dcbab489e94 <unknown>\n",
      "#5 0x5dcbab460e7d <unknown>\n",
      "#6 0x5dcbab48730b <unknown>\n",
      "#7 0x5dcbab460c23 <unknown>\n",
      "#8 0x5dcbab42d4a5 <unknown>\n",
      "#9 0x5dcbab42e111 <unknown>\n",
      "#10 0x5dcbab908f1b <unknown>\n",
      "#11 0x5dcbab90ce19 <unknown>\n",
      "#12 0x5dcbab8efac9 <unknown>\n",
      "#13 0x5dcbab90d9c8 <unknown>\n",
      "#14 0x5dcbab8d434f <unknown>\n",
      "#15 0x5dcbab931a28 <unknown>\n",
      "#16 0x5dcbab931c06 <unknown>\n",
      "#17 0x5dcbab943336 <unknown>\n",
      "#18 0x737e7669caa4 <unknown>\n",
      "#19 0x737e76729c3c <unknown>\n",
      "\n",
      "failed to download 3064 - Weiser Wash RAIN (Rain)\n"
     ]
    },
    {
     "name": "stderr",
     "output_type": "stream",
     "text": [
      " 10%|▉         | 23/231 [04:47<1:14:25, 21.47s/it]"
     ]
    },
    {
     "name": "stdout",
     "output_type": "stream",
     "text": [
      "Message: no such element: Unable to locate element: {\"method\":\"css selector\",\"selector\":\"[id=\"uiGage\"]\"}\n",
      "  (Session info: chrome=137.0.7151.119); For documentation on this error, please visit: https://www.selenium.dev/documentation/webdriver/troubleshooting/errors#no-such-element-exception\n",
      "Stacktrace:\n",
      "#0 0x56d49c61f45a <unknown>\n",
      "#1 0x56d49c0c4760 <unknown>\n",
      "#2 0x56d49c116127 <unknown>\n",
      "#3 0x56d49c116321 <unknown>\n",
      "#4 0x56d49c164e94 <unknown>\n",
      "#5 0x56d49c13be7d <unknown>\n",
      "#6 0x56d49c16230b <unknown>\n",
      "#7 0x56d49c13bc23 <unknown>\n",
      "#8 0x56d49c1084a5 <unknown>\n",
      "#9 0x56d49c109111 <unknown>\n",
      "#10 0x56d49c5e3f1b <unknown>\n",
      "#11 0x56d49c5e7e19 <unknown>\n",
      "#12 0x56d49c5caac9 <unknown>\n",
      "#13 0x56d49c5e89c8 <unknown>\n",
      "#14 0x56d49c5af34f <unknown>\n",
      "#15 0x56d49c60ca28 <unknown>\n",
      "#16 0x56d49c60cc06 <unknown>\n",
      "#17 0x56d49c61e336 <unknown>\n",
      "#18 0x7a432569caa4 <unknown>\n",
      "#19 0x7a4325729c3c <unknown>\n",
      "\n",
      "failed to download 3114 - California Wash 4 RAIN (Rain)\n"
     ]
    },
    {
     "name": "stderr",
     "output_type": "stream",
     "text": [
      " 10%|█         | 24/231 [05:11<1:16:17, 22.11s/it]"
     ]
    },
    {
     "name": "stdout",
     "output_type": "stream",
     "text": [
      "Message: no such element: Unable to locate element: {\"method\":\"css selector\",\"selector\":\"[id=\"uiGage\"]\"}\n",
      "  (Session info: chrome=137.0.7151.119); For documentation on this error, please visit: https://www.selenium.dev/documentation/webdriver/troubleshooting/errors#no-such-element-exception\n",
      "Stacktrace:\n",
      "#0 0x60c37800545a <unknown>\n",
      "#1 0x60c377aaa760 <unknown>\n",
      "#2 0x60c377afc127 <unknown>\n",
      "#3 0x60c377afc321 <unknown>\n",
      "#4 0x60c377b4ae94 <unknown>\n",
      "#5 0x60c377b21e7d <unknown>\n",
      "#6 0x60c377b4830b <unknown>\n",
      "#7 0x60c377b21c23 <unknown>\n",
      "#8 0x60c377aee4a5 <unknown>\n",
      "#9 0x60c377aef111 <unknown>\n",
      "#10 0x60c377fc9f1b <unknown>\n",
      "#11 0x60c377fcde19 <unknown>\n",
      "#12 0x60c377fb0ac9 <unknown>\n",
      "#13 0x60c377fce9c8 <unknown>\n",
      "#14 0x60c377f9534f <unknown>\n",
      "#15 0x60c377ff2a28 <unknown>\n",
      "#16 0x60c377ff2c06 <unknown>\n",
      "#17 0x60c378004336 <unknown>\n",
      "#18 0x761a8fa9caa4 <unknown>\n",
      "#19 0x761a8fb29c3c <unknown>\n",
      "\n",
      "failed to download 3124 - Moapa SW 3 RAIN (Rain)\n"
     ]
    },
    {
     "name": "stderr",
     "output_type": "stream",
     "text": [
      " 11%|█         | 25/231 [05:34<1:17:20, 22.52s/it]"
     ]
    },
    {
     "name": "stdout",
     "output_type": "stream",
     "text": [
      "Message: no such element: Unable to locate element: {\"method\":\"css selector\",\"selector\":\"[id=\"uiGage\"]\"}\n",
      "  (Session info: chrome=137.0.7151.119); For documentation on this error, please visit: https://www.selenium.dev/documentation/webdriver/troubleshooting/errors#no-such-element-exception\n",
      "Stacktrace:\n",
      "#0 0x5744de23145a <unknown>\n",
      "#1 0x5744ddcd6760 <unknown>\n",
      "#2 0x5744ddd28127 <unknown>\n",
      "#3 0x5744ddd28321 <unknown>\n",
      "#4 0x5744ddd76e94 <unknown>\n",
      "#5 0x5744ddd4de7d <unknown>\n",
      "#6 0x5744ddd7430b <unknown>\n",
      "#7 0x5744ddd4dc23 <unknown>\n",
      "#8 0x5744ddd1a4a5 <unknown>\n",
      "#9 0x5744ddd1b111 <unknown>\n",
      "#10 0x5744de1f5f1b <unknown>\n",
      "#11 0x5744de1f9e19 <unknown>\n",
      "#12 0x5744de1dcac9 <unknown>\n",
      "#13 0x5744de1fa9c8 <unknown>\n",
      "#14 0x5744de1c134f <unknown>\n",
      "#15 0x5744de21ea28 <unknown>\n",
      "#16 0x5744de21ec06 <unknown>\n",
      "#17 0x5744de230336 <unknown>\n",
      "#18 0x71471389caa4 <unknown>\n",
      "#19 0x714713929c3c <unknown>\n",
      "\n",
      "failed to download 3129 - Moapa SW 2 RAIN (Rain)\n"
     ]
    },
    {
     "name": "stderr",
     "output_type": "stream",
     "text": [
      " 11%|█▏        | 26/231 [05:58<1:18:06, 22.86s/it]"
     ]
    },
    {
     "name": "stdout",
     "output_type": "stream",
     "text": [
      "Message: no such element: Unable to locate element: {\"method\":\"css selector\",\"selector\":\"[id=\"uiGage\"]\"}\n",
      "  (Session info: chrome=137.0.7151.119); For documentation on this error, please visit: https://www.selenium.dev/documentation/webdriver/troubleshooting/errors#no-such-element-exception\n",
      "Stacktrace:\n",
      "#0 0x636da970545a <unknown>\n",
      "#1 0x636da91aa760 <unknown>\n",
      "#2 0x636da91fc127 <unknown>\n",
      "#3 0x636da91fc321 <unknown>\n",
      "#4 0x636da924ae94 <unknown>\n",
      "#5 0x636da9221e7d <unknown>\n",
      "#6 0x636da924830b <unknown>\n",
      "#7 0x636da9221c23 <unknown>\n",
      "#8 0x636da91ee4a5 <unknown>\n",
      "#9 0x636da91ef111 <unknown>\n",
      "#10 0x636da96c9f1b <unknown>\n",
      "#11 0x636da96cde19 <unknown>\n",
      "#12 0x636da96b0ac9 <unknown>\n",
      "#13 0x636da96ce9c8 <unknown>\n",
      "#14 0x636da969534f <unknown>\n",
      "#15 0x636da96f2a28 <unknown>\n",
      "#16 0x636da96f2c06 <unknown>\n",
      "#17 0x636da9704336 <unknown>\n",
      "#18 0x7c6e9a89caa4 <unknown>\n",
      "#19 0x7c6e9a929c3c <unknown>\n",
      "\n",
      "failed to download 3134 - Moapa SW 1 RAIN (Rain)\n"
     ]
    },
    {
     "name": "stderr",
     "output_type": "stream",
     "text": [
      " 11%|█▏        | 26/231 [06:30<51:15, 15.00s/it]  \n"
     ]
    },
    {
     "ename": "NoSuchElementException",
     "evalue": "Message: no such element: Unable to locate element: {\"method\":\"css selector\",\"selector\":\"[id=\"uiGage\"]\"}\n  (Session info: chrome=137.0.7151.119); For documentation on this error, please visit: https://www.selenium.dev/documentation/webdriver/troubleshooting/errors#no-such-element-exception\nStacktrace:\n#0 0x63e833d8045a <unknown>\n#1 0x63e833825760 <unknown>\n#2 0x63e833877127 <unknown>\n#3 0x63e833877321 <unknown>\n#4 0x63e8338c5e94 <unknown>\n#5 0x63e83389ce7d <unknown>\n#6 0x63e8338c330b <unknown>\n#7 0x63e83389cc23 <unknown>\n#8 0x63e8338694a5 <unknown>\n#9 0x63e83386a111 <unknown>\n#10 0x63e833d44f1b <unknown>\n#11 0x63e833d48e19 <unknown>\n#12 0x63e833d2bac9 <unknown>\n#13 0x63e833d499c8 <unknown>\n#14 0x63e833d1034f <unknown>\n#15 0x63e833d6da28 <unknown>\n#16 0x63e833d6dc06 <unknown>\n#17 0x63e833d7f336 <unknown>\n#18 0x731a6709caa4 <unknown>\n#19 0x731a67129c3c <unknown>\n",
     "output_type": "error",
     "traceback": [
      "\u001b[0;31m---------------------------------------------------------------------------\u001b[0m",
      "\u001b[0;31mNoSuchElementException\u001b[0m                    Traceback (most recent call last)",
      "Cell \u001b[0;32mIn[15], line 7\u001b[0m\n\u001b[1;32m      5\u001b[0m \u001b[38;5;28;01mtry\u001b[39;00m:\n\u001b[0;32m----> 7\u001b[0m     gauge_element \u001b[38;5;241m=\u001b[39m \u001b[43mdriver\u001b[49m\u001b[38;5;241;43m.\u001b[39;49m\u001b[43mfind_element\u001b[49m\u001b[43m(\u001b[49m\u001b[43mBy\u001b[49m\u001b[38;5;241;43m.\u001b[39;49m\u001b[43mID\u001b[49m\u001b[43m,\u001b[49m\u001b[43m \u001b[49m\u001b[38;5;124;43m\"\u001b[39;49m\u001b[38;5;124;43muiGage\u001b[39;49m\u001b[38;5;124;43m\"\u001b[39;49m\u001b[43m)\u001b[49m\n\u001b[1;32m      8\u001b[0m     gauge_selector \u001b[38;5;241m=\u001b[39m Select(gauge_element)\n",
      "File \u001b[0;32m~/miniforge3/envs/torp/lib/python3.10/site-packages/selenium/webdriver/remote/webdriver.py:914\u001b[0m, in \u001b[0;36mWebDriver.find_element\u001b[0;34m(self, by, value)\u001b[0m\n\u001b[1;32m    912\u001b[0m     \u001b[38;5;28;01mreturn\u001b[39;00m elements[\u001b[38;5;241m0\u001b[39m]\n\u001b[0;32m--> 914\u001b[0m \u001b[38;5;28;01mreturn\u001b[39;00m \u001b[38;5;28;43mself\u001b[39;49m\u001b[38;5;241;43m.\u001b[39;49m\u001b[43mexecute\u001b[49m\u001b[43m(\u001b[49m\u001b[43mCommand\u001b[49m\u001b[38;5;241;43m.\u001b[39;49m\u001b[43mFIND_ELEMENT\u001b[49m\u001b[43m,\u001b[49m\u001b[43m \u001b[49m\u001b[43m{\u001b[49m\u001b[38;5;124;43m\"\u001b[39;49m\u001b[38;5;124;43musing\u001b[39;49m\u001b[38;5;124;43m\"\u001b[39;49m\u001b[43m:\u001b[49m\u001b[43m \u001b[49m\u001b[43mby\u001b[49m\u001b[43m,\u001b[49m\u001b[43m \u001b[49m\u001b[38;5;124;43m\"\u001b[39;49m\u001b[38;5;124;43mvalue\u001b[39;49m\u001b[38;5;124;43m\"\u001b[39;49m\u001b[43m:\u001b[49m\u001b[43m \u001b[49m\u001b[43mvalue\u001b[49m\u001b[43m}\u001b[49m\u001b[43m)\u001b[49m[\u001b[38;5;124m\"\u001b[39m\u001b[38;5;124mvalue\u001b[39m\u001b[38;5;124m\"\u001b[39m]\n",
      "File \u001b[0;32m~/miniforge3/envs/torp/lib/python3.10/site-packages/selenium/webdriver/remote/webdriver.py:447\u001b[0m, in \u001b[0;36mWebDriver.execute\u001b[0;34m(self, driver_command, params)\u001b[0m\n\u001b[1;32m    446\u001b[0m \u001b[38;5;28;01mif\u001b[39;00m response:\n\u001b[0;32m--> 447\u001b[0m     \u001b[38;5;28;43mself\u001b[39;49m\u001b[38;5;241;43m.\u001b[39;49m\u001b[43merror_handler\u001b[49m\u001b[38;5;241;43m.\u001b[39;49m\u001b[43mcheck_response\u001b[49m\u001b[43m(\u001b[49m\u001b[43mresponse\u001b[49m\u001b[43m)\u001b[49m\n\u001b[1;32m    448\u001b[0m     response[\u001b[38;5;124m\"\u001b[39m\u001b[38;5;124mvalue\u001b[39m\u001b[38;5;124m\"\u001b[39m] \u001b[38;5;241m=\u001b[39m \u001b[38;5;28mself\u001b[39m\u001b[38;5;241m.\u001b[39m_unwrap_value(response\u001b[38;5;241m.\u001b[39mget(\u001b[38;5;124m\"\u001b[39m\u001b[38;5;124mvalue\u001b[39m\u001b[38;5;124m\"\u001b[39m, \u001b[38;5;28;01mNone\u001b[39;00m))\n",
      "File \u001b[0;32m~/miniforge3/envs/torp/lib/python3.10/site-packages/selenium/webdriver/remote/errorhandler.py:232\u001b[0m, in \u001b[0;36mErrorHandler.check_response\u001b[0;34m(self, response)\u001b[0m\n\u001b[1;32m    231\u001b[0m     \u001b[38;5;28;01mraise\u001b[39;00m exception_class(message, screen, stacktrace, alert_text)  \u001b[38;5;66;03m# type: ignore[call-arg]  # mypy is not smart enough here\u001b[39;00m\n\u001b[0;32m--> 232\u001b[0m \u001b[38;5;28;01mraise\u001b[39;00m exception_class(message, screen, stacktrace)\n",
      "\u001b[0;31mNoSuchElementException\u001b[0m: Message: no such element: Unable to locate element: {\"method\":\"css selector\",\"selector\":\"[id=\"uiGage\"]\"}\n  (Session info: chrome=137.0.7151.119); For documentation on this error, please visit: https://www.selenium.dev/documentation/webdriver/troubleshooting/errors#no-such-element-exception\nStacktrace:\n#0 0x636da970545a <unknown>\n#1 0x636da91aa760 <unknown>\n#2 0x636da91fc127 <unknown>\n#3 0x636da91fc321 <unknown>\n#4 0x636da924ae94 <unknown>\n#5 0x636da9221e7d <unknown>\n#6 0x636da924830b <unknown>\n#7 0x636da9221c23 <unknown>\n#8 0x636da91ee4a5 <unknown>\n#9 0x636da91ef111 <unknown>\n#10 0x636da96c9f1b <unknown>\n#11 0x636da96cde19 <unknown>\n#12 0x636da96b0ac9 <unknown>\n#13 0x636da96ce9c8 <unknown>\n#14 0x636da969534f <unknown>\n#15 0x636da96f2a28 <unknown>\n#16 0x636da96f2c06 <unknown>\n#17 0x636da9704336 <unknown>\n#18 0x7c6e9a89caa4 <unknown>\n#19 0x7c6e9a929c3c <unknown>\n",
      "\nDuring handling of the above exception, another exception occurred:\n",
      "\u001b[0;31mNoSuchElementException\u001b[0m                    Traceback (most recent call last)",
      "Cell \u001b[0;32mIn[15], line 41\u001b[0m\n\u001b[1;32m     38\u001b[0m driver \u001b[38;5;241m=\u001b[39m get_chrome_driver()\n\u001b[1;32m     39\u001b[0m driver\u001b[38;5;241m.\u001b[39mget(_URL)\n\u001b[0;32m---> 41\u001b[0m gauge_element \u001b[38;5;241m=\u001b[39m \u001b[43mdriver\u001b[49m\u001b[38;5;241;43m.\u001b[39;49m\u001b[43mfind_element\u001b[49m\u001b[43m(\u001b[49m\u001b[43mBy\u001b[49m\u001b[38;5;241;43m.\u001b[39;49m\u001b[43mID\u001b[49m\u001b[43m,\u001b[49m\u001b[43m \u001b[49m\u001b[38;5;124;43m\"\u001b[39;49m\u001b[38;5;124;43muiGage\u001b[39;49m\u001b[38;5;124;43m\"\u001b[39;49m\u001b[43m)\u001b[49m\n\u001b[1;32m     42\u001b[0m gauge_selector \u001b[38;5;241m=\u001b[39m Select(gauge_element)\n\u001b[1;32m     43\u001b[0m gauge_selector\u001b[38;5;241m.\u001b[39mselect_by_visible_text(visible_text)\n",
      "File \u001b[0;32m~/miniforge3/envs/torp/lib/python3.10/site-packages/selenium/webdriver/remote/webdriver.py:914\u001b[0m, in \u001b[0;36mWebDriver.find_element\u001b[0;34m(self, by, value)\u001b[0m\n\u001b[1;32m    911\u001b[0m         \u001b[38;5;28;01mraise\u001b[39;00m NoSuchElementException(\u001b[38;5;124mf\u001b[39m\u001b[38;5;124m\"\u001b[39m\u001b[38;5;124mCannot locate relative element with: \u001b[39m\u001b[38;5;132;01m{\u001b[39;00mby\u001b[38;5;241m.\u001b[39mroot\u001b[38;5;132;01m}\u001b[39;00m\u001b[38;5;124m\"\u001b[39m)\n\u001b[1;32m    912\u001b[0m     \u001b[38;5;28;01mreturn\u001b[39;00m elements[\u001b[38;5;241m0\u001b[39m]\n\u001b[0;32m--> 914\u001b[0m \u001b[38;5;28;01mreturn\u001b[39;00m \u001b[38;5;28;43mself\u001b[39;49m\u001b[38;5;241;43m.\u001b[39;49m\u001b[43mexecute\u001b[49m\u001b[43m(\u001b[49m\u001b[43mCommand\u001b[49m\u001b[38;5;241;43m.\u001b[39;49m\u001b[43mFIND_ELEMENT\u001b[49m\u001b[43m,\u001b[49m\u001b[43m \u001b[49m\u001b[43m{\u001b[49m\u001b[38;5;124;43m\"\u001b[39;49m\u001b[38;5;124;43musing\u001b[39;49m\u001b[38;5;124;43m\"\u001b[39;49m\u001b[43m:\u001b[49m\u001b[43m \u001b[49m\u001b[43mby\u001b[49m\u001b[43m,\u001b[49m\u001b[43m \u001b[49m\u001b[38;5;124;43m\"\u001b[39;49m\u001b[38;5;124;43mvalue\u001b[39;49m\u001b[38;5;124;43m\"\u001b[39;49m\u001b[43m:\u001b[49m\u001b[43m \u001b[49m\u001b[43mvalue\u001b[49m\u001b[43m}\u001b[49m\u001b[43m)\u001b[49m[\u001b[38;5;124m\"\u001b[39m\u001b[38;5;124mvalue\u001b[39m\u001b[38;5;124m\"\u001b[39m]\n",
      "File \u001b[0;32m~/miniforge3/envs/torp/lib/python3.10/site-packages/selenium/webdriver/remote/webdriver.py:447\u001b[0m, in \u001b[0;36mWebDriver.execute\u001b[0;34m(self, driver_command, params)\u001b[0m\n\u001b[1;32m    445\u001b[0m response \u001b[38;5;241m=\u001b[39m \u001b[38;5;28mself\u001b[39m\u001b[38;5;241m.\u001b[39mcommand_executor\u001b[38;5;241m.\u001b[39mexecute(driver_command, params)\n\u001b[1;32m    446\u001b[0m \u001b[38;5;28;01mif\u001b[39;00m response:\n\u001b[0;32m--> 447\u001b[0m     \u001b[38;5;28;43mself\u001b[39;49m\u001b[38;5;241;43m.\u001b[39;49m\u001b[43merror_handler\u001b[49m\u001b[38;5;241;43m.\u001b[39;49m\u001b[43mcheck_response\u001b[49m\u001b[43m(\u001b[49m\u001b[43mresponse\u001b[49m\u001b[43m)\u001b[49m\n\u001b[1;32m    448\u001b[0m     response[\u001b[38;5;124m\"\u001b[39m\u001b[38;5;124mvalue\u001b[39m\u001b[38;5;124m\"\u001b[39m] \u001b[38;5;241m=\u001b[39m \u001b[38;5;28mself\u001b[39m\u001b[38;5;241m.\u001b[39m_unwrap_value(response\u001b[38;5;241m.\u001b[39mget(\u001b[38;5;124m\"\u001b[39m\u001b[38;5;124mvalue\u001b[39m\u001b[38;5;124m\"\u001b[39m, \u001b[38;5;28;01mNone\u001b[39;00m))\n\u001b[1;32m    449\u001b[0m     \u001b[38;5;28;01mreturn\u001b[39;00m response\n",
      "File \u001b[0;32m~/miniforge3/envs/torp/lib/python3.10/site-packages/selenium/webdriver/remote/errorhandler.py:232\u001b[0m, in \u001b[0;36mErrorHandler.check_response\u001b[0;34m(self, response)\u001b[0m\n\u001b[1;32m    230\u001b[0m         alert_text \u001b[38;5;241m=\u001b[39m value[\u001b[38;5;124m\"\u001b[39m\u001b[38;5;124malert\u001b[39m\u001b[38;5;124m\"\u001b[39m]\u001b[38;5;241m.\u001b[39mget(\u001b[38;5;124m\"\u001b[39m\u001b[38;5;124mtext\u001b[39m\u001b[38;5;124m\"\u001b[39m)\n\u001b[1;32m    231\u001b[0m     \u001b[38;5;28;01mraise\u001b[39;00m exception_class(message, screen, stacktrace, alert_text)  \u001b[38;5;66;03m# type: ignore[call-arg]  # mypy is not smart enough here\u001b[39;00m\n\u001b[0;32m--> 232\u001b[0m \u001b[38;5;28;01mraise\u001b[39;00m exception_class(message, screen, stacktrace)\n",
      "\u001b[0;31mNoSuchElementException\u001b[0m: Message: no such element: Unable to locate element: {\"method\":\"css selector\",\"selector\":\"[id=\"uiGage\"]\"}\n  (Session info: chrome=137.0.7151.119); For documentation on this error, please visit: https://www.selenium.dev/documentation/webdriver/troubleshooting/errors#no-such-element-exception\nStacktrace:\n#0 0x63e833d8045a <unknown>\n#1 0x63e833825760 <unknown>\n#2 0x63e833877127 <unknown>\n#3 0x63e833877321 <unknown>\n#4 0x63e8338c5e94 <unknown>\n#5 0x63e83389ce7d <unknown>\n#6 0x63e8338c330b <unknown>\n#7 0x63e83389cc23 <unknown>\n#8 0x63e8338694a5 <unknown>\n#9 0x63e83386a111 <unknown>\n#10 0x63e833d44f1b <unknown>\n#11 0x63e833d48e19 <unknown>\n#12 0x63e833d2bac9 <unknown>\n#13 0x63e833d499c8 <unknown>\n#14 0x63e833d1034f <unknown>\n#15 0x63e833d6da28 <unknown>\n#16 0x63e833d6dc06 <unknown>\n#17 0x63e833d7f336 <unknown>\n#18 0x731a6709caa4 <unknown>\n#19 0x731a67129c3c <unknown>\n"
     ]
    }
   ],
   "source": [
    "for gauge_id in tqdm(unique_gauge_ids, total=len(unique_gauge_ids)):\n",
    "\n",
    "    visible_text = gauge_id_name_map[gauge_id]\n",
    "\n",
    "    try:\n",
    "        \n",
    "        gauge_element = driver.find_element(By.ID, \"uiGage\")\n",
    "        gauge_selector = Select(gauge_element)\n",
    "        gauge_selector.select_by_visible_text(visible_text)\n",
    "\n",
    "        # 2. set start/end time\n",
    "        start_date_element = driver.find_element(By.ID, \"startDate\")\n",
    "        start_date_element.send_keys(Keys.CONTROL + \"a\")\n",
    "\n",
    "        # 2a. set start date\n",
    "        start_date = datetime(2021, 1, 1)\n",
    "        start_date_element.send_keys(start_date.strftime(\"%m/%d/%Y\"))\n",
    "        end_date_element = driver.find_element(By.ID, \"endDate\")\n",
    "\n",
    "        # 3. set interval to second index value\n",
    "        interval_element = driver.find_element(By.ID, \"uiInterval\")\n",
    "        interval_select = Select(interval_element)\n",
    "\n",
    "        # 3a. set interval to \"5 minutes\"\n",
    "        interval_select.select_by_index(1)\n",
    "        \n",
    "        download_element.click()\n",
    "\n",
    "    except Exception as e:\n",
    "\n",
    "        driver.quit()\n",
    "        driver = get_chrome_driver()\n",
    "        driver.get(_URL)\n",
    "\n",
    "        print(e)\n",
    "        print(f\"failed to download {visible_text}\")\n",
    "        driver.quit()\n",
    "        driver = get_chrome_driver()\n",
    "        driver.get(_URL)\n",
    "\n",
    "        gauge_element = driver.find_element(By.ID, \"uiGage\")\n",
    "        gauge_selector = Select(gauge_element)\n",
    "        gauge_selector.select_by_visible_text(visible_text)\n",
    "\n",
    "        # 2. set start/end time\n",
    "        start_date_element = driver.find_element(By.ID, \"startDate\")\n",
    "        start_date_element.send_keys(Keys.CONTROL + \"a\")\n",
    "\n",
    "        # 2a. set start date\n",
    "        start_date = datetime(2021, 1, 1)\n",
    "        start_date_element.send_keys(start_date.strftime(\"%m/%d/%Y\"))\n",
    "        end_date_element = driver.find_element(By.ID, \"endDate\")\n",
    "\n",
    "        # 3. set interval to second index value\n",
    "        interval_element = driver.find_element(By.ID, \"uiInterval\")\n",
    "        interval_select = Select(interval_element)\n",
    "\n",
    "        # 3a. set interval to \"5 minutes\"\n",
    "        interval_select.select_by_index(1)\n",
    "\n",
    "        # 4. click \"Download CSV File\" and collect result\n",
    "        download_element = driver.find_element(By.ID, \"uiDownload\")\n",
    "        download_element.click()\n",
    "\n",
    "\n",
    "driver.quit()"
   ]
  },
  {
   "cell_type": "code",
   "execution_count": null,
   "id": "0ad86c9d",
   "metadata": {},
   "outputs": [],
   "source": [
    "column_headers   = [\"time\"] + sorted(list(valid_unique_gauge_ids))\n",
    "column_headers"
   ]
  },
  {
   "cell_type": "code",
   "execution_count": null,
   "id": "50122410",
   "metadata": {},
   "outputs": [],
   "source": []
  }
 ],
 "metadata": {
  "kernelspec": {
   "display_name": "torp",
   "language": "python",
   "name": "python3"
  },
  "language_info": {
   "codemirror_mode": {
    "name": "ipython",
    "version": 3
   },
   "file_extension": ".py",
   "mimetype": "text/x-python",
   "name": "python",
   "nbconvert_exporter": "python",
   "pygments_lexer": "ipython3",
   "version": "3.10.17"
  }
 },
 "nbformat": 4,
 "nbformat_minor": 5
}
